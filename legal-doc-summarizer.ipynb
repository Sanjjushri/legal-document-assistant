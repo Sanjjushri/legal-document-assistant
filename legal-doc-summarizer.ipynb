{
 "cells": [
  {
   "cell_type": "code",
   "execution_count": 3,
   "id": "cbd83a2a-a119-4ff1-b1b9-ddaa0aeb37a5",
   "metadata": {},
   "outputs": [],
   "source": [
    "# ! pip install transformers"
   ]
  },
  {
   "cell_type": "code",
   "execution_count": 1,
   "id": "e1dbae2d-2a55-426e-8567-7a52be89f011",
   "metadata": {},
   "outputs": [
    {
     "name": "stdout",
     "output_type": "stream",
     "text": [
      "Name: transformers\n",
      "Version: 4.26.1\n",
      "Summary: State-of-the-art Machine Learning for JAX, PyTorch and TensorFlow\n",
      "Home-page: https://github.com/huggingface/transformers\n",
      "Author: The Hugging Face team (past and future) with the help of all our contributors (https://github.com/huggingface/transformers/graphs/contributors)\n",
      "Author-email: transformers@huggingface.co\n",
      "License: Apache\n",
      "Location: /opt/homebrew/Caskroom/miniconda/base/envs/ml38/lib/python3.8/site-packages\n",
      "Requires: filelock, huggingface-hub, numpy, packaging, pyyaml, regex, requests, tokenizers, tqdm\n",
      "Required-by: sentence-transformers\n"
     ]
    }
   ],
   "source": [
    "!pip show transformers"
   ]
  },
  {
   "cell_type": "code",
   "execution_count": 23,
   "id": "fe9a5e1a-4bf5-4f35-a7cb-9e9defaeef87",
   "metadata": {},
   "outputs": [],
   "source": [
    "import warnings\n",
    "warnings.filterwarnings(\"ignore\")"
   ]
  },
  {
   "cell_type": "code",
   "execution_count": 30,
   "id": "19903e1f-7dee-492e-a13f-b5596db1bc9e",
   "metadata": {},
   "outputs": [],
   "source": [
    "from transformers import BertTokenizer, BertForSequenceClassification, pipeline\n",
    "\n",
    "# Load the BERT tokenizer and model for summarization\n",
    "tokenizer = BertTokenizer.from_pretrained(\"bert-base-uncased\")\n",
    "model = BertForSequenceClassification.from_pretrained(\"bert-base-uncased\")"
   ]
  },
  {
   "cell_type": "code",
   "execution_count": 25,
   "id": "7600eae2-d18f-47e8-a4e9-f760eadeaa4f",
   "metadata": {},
   "outputs": [],
   "source": [
    "# Define the text to be summarized\n",
    "input_text = \"\"\"\n",
    "     This Agreement (\"Agreement\") is entered into on this [Date], (the \"Effective Date\"), by and between [Party A], with its principal place of business at [Address], and [Party B], with its principal place of business at [Address], collectively referred to as the \"Parties.\"\n",
    "\n",
    "WHEREAS, [Party A] and [Party B] desire to enter into a business relationship for the purpose of [Purpose of the Agreement]; and\n",
    "\n",
    "WHEREAS, the Parties wish to set forth the terms and conditions governing their relationship;\n",
    "\n",
    "NOW, THEREFORE, in consideration of the mutual covenants contained herein, the Parties agree as follows:\n",
    "\n",
    "1. Definitions\n",
    "   1.1. \"Confidential Information\" shall mean any non-public, proprietary information disclosed by one Party to the other Party under this Agreement.\n",
    "   1.2. \"Term\" shall mean the duration of this Agreement as specified in Section 4.\n",
    "   ...\n",
    "\n",
    "2. Obligations of [Party A]\n",
    "   2.1. [Detailed description of Party A's obligations]\n",
    "   ...\n",
    "\n",
    "3. Obligations of [Party B]\n",
    "   3.1. [Detailed description of Party B's obligations]\n",
    "   ...\n",
    "\n",
    "4. Term and Termination\n",
    "   4.1. This Agreement shall commence on the Effective Date and shall continue in effect until terminated as provided herein.\n",
    "   4.2. [Conditions and procedures for termination]\n",
    "   ...\n",
    "\n",
    "5. Confidentiality\n",
    "   5.1. Both Parties agree to keep all Confidential Information received from the other Party confidential and to use such information only for the purposes of this Agreement.\n",
    "   ...\n",
    "\n",
    "6. Governing Law\n",
    "   6.1. This Agreement shall be governed by and construed in accordance with the laws of the State of [State], without regard to its conflicts of law principles.\n",
    "\n",
    "7. Entire Agreement\n",
    "   7.1. This Agreement constitutes the entire agreement between the Parties and supersedes all prior understandings, agreements, representations, and warranties.\n",
    "\n",
    "IN WITNESS WHEREOF, the Parties hereto have executed this Agreement as of the Effective Date.\n",
    "\n",
    "[Signature of Party A]      [Signature of Party B]\n",
    "[Name of Party A]           [Name of Party B]\n",
    "[Title of Party A]          [Title of Party B]\n",
    "[Date]                      [Date]\n",
    "  \"\"\""
   ]
  },
  {
   "cell_type": "code",
   "execution_count": 26,
   "id": "b8ab9037-b614-4c08-82b4-71b9c5834013",
   "metadata": {},
   "outputs": [],
   "source": [
    "# Tokenize and summarize the text\n",
    "summarizer = pipeline(\"summarization\", model=\"facebook/bart-large-cnn\")\n",
    "summary = summarizer(input_text, max_length=150, min_length=30, do_sample=False)\n"
   ]
  },
  {
   "cell_type": "code",
   "execution_count": 27,
   "id": "a8891282-c355-4944-b69f-1b023c353ab9",
   "metadata": {},
   "outputs": [],
   "source": [
    "# Print the summarized text\n",
    "bert_summary = summary[0][\"summary_text\"]"
   ]
  },
  {
   "cell_type": "code",
   "execution_count": 28,
   "id": "685a9904-0024-451f-ba37-b914a7475d03",
   "metadata": {},
   "outputs": [
    {
     "data": {
      "text/plain": [
       "'This Agreement (\"Agreement\") is entered into on this [Date], (the \"Effective Date\"), by and between [Party A] and [Party B] Both Parties agree to keep all Confidential Information received from the other Party confidential and to use such information only for the purposes of this Agreement.'"
      ]
     },
     "execution_count": 28,
     "metadata": {},
     "output_type": "execute_result"
    }
   ],
   "source": [
    "bert_summary"
   ]
  },
  {
   "cell_type": "code",
   "execution_count": null,
   "id": "6ed7b208-0dbc-4f35-a92f-52e09dc07b48",
   "metadata": {},
   "outputs": [],
   "source": []
  },
  {
   "cell_type": "code",
   "execution_count": null,
   "id": "20f9c714-9cdc-49cd-90c9-376afa12c961",
   "metadata": {},
   "outputs": [],
   "source": []
  },
  {
   "cell_type": "markdown",
   "id": "3cce08a6-4c9d-40ab-9fa0-0972ef4cd961",
   "metadata": {},
   "source": [
    "Spacy"
   ]
  },
  {
   "cell_type": "code",
   "execution_count": 29,
   "id": "cee07848-303f-468d-95ff-fd120a0799fd",
   "metadata": {},
   "outputs": [
    {
     "name": "stdout",
     "output_type": "stream",
     "text": [
      "Both Parties agree to keep all Confidential Information received from the other Party confidential and to use such information only for the purposes of this Agreement.\n"
     ]
    }
   ],
   "source": [
    "import spacy\n",
    "from spacy.lang.en import English\n",
    "from sumy.parsers.plaintext import PlaintextParser\n",
    "from sumy.nlp.tokenizers import Tokenizer\n",
    "from sumy.summarizers.lex_rank import LexRankSummarizer\n",
    "\n",
    "# Load SpaCy and create a sentence tokenization pipeline\n",
    "nlp = English()\n",
    "nlp.add_pipe(\"sentencizer\")\n",
    "\n",
    "# Input text (replace with your text)\n",
    "input_text = \"\"\"\n",
    "This Agreement (\"Agreement\") is entered into on this [Date], (the \"Effective Date\"), by and between [Party A], with its principal place of business at [Address], and [Party B], with its principal place of business at [Address], collectively referred to as the \"Parties.\"\n",
    "\n",
    "WHEREAS, [Party A] and [Party B] desire to enter into a business relationship for the purpose of [Purpose of the Agreement]; and\n",
    "\n",
    "WHEREAS, the Parties wish to set forth the terms and conditions governing their relationship;\n",
    "\n",
    "NOW, THEREFORE, in consideration of the mutual covenants contained herein, the Parties agree as follows:\n",
    "\n",
    "1. Definitions\n",
    "   1.1. \"Confidential Information\" shall mean any non-public, proprietary information disclosed by one Party to the other Party under this Agreement.\n",
    "   1.2. \"Term\" shall mean the duration of this Agreement as specified in Section 4.\n",
    "   ...\n",
    "\n",
    "2. Obligations of [Party A]\n",
    "   2.1. [Detailed description of Party A's obligations]\n",
    "   ...\n",
    "\n",
    "3. Obligations of [Party B]\n",
    "   3.1. [Detailed description of Party B's obligations]\n",
    "   ...\n",
    "\n",
    "4. Term and Termination\n",
    "   4.1. This Agreement shall commence on the Effective Date and shall continue in effect until terminated as provided herein.\n",
    "   4.2. [Conditions and procedures for termination]\n",
    "   ...\n",
    "\n",
    "5. Confidentiality\n",
    "   5.1. Both Parties agree to keep all Confidential Information received from the other Party confidential and to use such information only for the purposes of this Agreement.\n",
    "   ...\n",
    "\n",
    "6. Governing Law\n",
    "   6.1. This Agreement shall be governed by and construed in accordance with the laws of the State of [State], without regard to its conflicts of law principles.\n",
    "\n",
    "7. Entire Agreement\n",
    "   7.1. This Agreement constitutes the entire agreement between the Parties and supersedes all prior understandings, agreements, representations, and warranties.\n",
    "\n",
    "IN WITNESS WHEREOF, the Parties hereto have executed this Agreement as of the Effective Date.\n",
    "\n",
    "[Signature of Party A]      [Signature of Party B]\n",
    "[Name of Party A]           [Name of Party B]\n",
    "[Title of Party A]          [Title of Party B]\n",
    "[Date]                      [Date]\n",
    "\n",
    "\"\"\"\n",
    "\n",
    "# Tokenize the input text into sentences using SpaCy\n",
    "doc = nlp(input_text)\n",
    "sentences = [sent.text for sent in doc.sents]\n",
    "\n",
    "# Convert sentences to a plain text format for summarization\n",
    "text = \" \".join(sentences)\n",
    "\n",
    "# Use Sumy for text summarization (you may need to install the Sumy library)\n",
    "parser = PlaintextParser.from_string(text, Tokenizer(\"english\"))\n",
    "summarizer = LexRankSummarizer()\n",
    "\n",
    "# Set the number of sentences in the summary (adjust as needed)\n",
    "summary_sentences_count = 3\n",
    "summary = summarizer(parser.document, summary_sentences_count)\n",
    "\n",
    "# Print the summarized text\n",
    "sum = \"\"\n",
    "\n",
    "for sentence in summary:\n",
    "    spacy_summary = sum + str(sentence)\n",
    "\n",
    "print(spacy_summary) "
   ]
  },
  {
   "cell_type": "code",
   "execution_count": null,
   "id": "789b5525-0a87-47df-b7c9-7938614594dc",
   "metadata": {},
   "outputs": [],
   "source": []
  },
  {
   "cell_type": "markdown",
   "id": "295a4d18-5c36-4b94-b124-6e9edd334bd0",
   "metadata": {},
   "source": [
    "Similarity Metrics"
   ]
  },
  {
   "cell_type": "code",
   "execution_count": 8,
   "id": "f1a10a03-f2e2-4464-adbc-d8ee8b7c9e7a",
   "metadata": {},
   "outputs": [],
   "source": [
    "from sentence_transformers import SentenceTransformer\n",
    "\n",
    "model = SentenceTransformer('bert-base-nli-mean-tokens')"
   ]
  },
  {
   "cell_type": "code",
   "execution_count": 9,
   "id": "4295261a-9dcd-451c-9764-ea3718a24ab3",
   "metadata": {},
   "outputs": [],
   "source": [
    "sentences = [spacy_summary, bert_summary]"
   ]
  },
  {
   "cell_type": "code",
   "execution_count": 10,
   "id": "bb708cb0-28f7-4fa1-a2f9-0e8d266fd170",
   "metadata": {},
   "outputs": [],
   "source": [
    "sentence_embeddings = model.encode(sentences)"
   ]
  },
  {
   "cell_type": "code",
   "execution_count": 11,
   "id": "1e3559ce-368d-444a-8472-1544fa03b0d0",
   "metadata": {},
   "outputs": [
    {
     "data": {
      "text/plain": [
       "(2, 768)"
      ]
     },
     "execution_count": 11,
     "metadata": {},
     "output_type": "execute_result"
    }
   ],
   "source": [
    "sentence_embeddings.shape"
   ]
  },
  {
   "cell_type": "code",
   "execution_count": null,
   "id": "7399509d-c844-4dec-b66a-54c91f41cf62",
   "metadata": {},
   "outputs": [],
   "source": []
  },
  {
   "cell_type": "markdown",
   "id": "16670633-b4ae-4d8e-b4c9-92fc7bcc4c6f",
   "metadata": {},
   "source": [
    "Cosine Similarity"
   ]
  },
  {
   "cell_type": "code",
   "execution_count": 12,
   "id": "b68917a7-6f5d-46f7-a5de-610a6e37e197",
   "metadata": {},
   "outputs": [],
   "source": [
    "from sklearn.metrics.pairwise import cosine_similarity"
   ]
  },
  {
   "cell_type": "code",
   "execution_count": 13,
   "id": "7751ab1e-c2e4-436d-ae99-0137b5657b7c",
   "metadata": {},
   "outputs": [],
   "source": [
    "similarity = cosine_similarity(\n",
    "    [sentence_embeddings[0]],\n",
    "    sentence_embeddings[1:])"
   ]
  },
  {
   "cell_type": "code",
   "execution_count": 14,
   "id": "c1acc59a-fa43-4edf-abf1-ba3a78322f7c",
   "metadata": {},
   "outputs": [
    {
     "name": "stdout",
     "output_type": "stream",
     "text": [
      "[[0.9369402]]\n"
     ]
    }
   ],
   "source": [
    "print(similarity)"
   ]
  },
  {
   "cell_type": "code",
   "execution_count": null,
   "id": "123fd71c-7501-46f0-abf8-5031580fbdba",
   "metadata": {},
   "outputs": [],
   "source": []
  },
  {
   "cell_type": "markdown",
   "id": "065a2531-3f27-4a37-b466-1994fd6e470e",
   "metadata": {},
   "source": [
    "Sorensen Similarity"
   ]
  },
  {
   "cell_type": "code",
   "execution_count": 15,
   "id": "6d4b6ce4-b0d8-440f-9818-64f744d4af41",
   "metadata": {},
   "outputs": [],
   "source": [
    "def calculate_sorensen_similarity(string1, string2):\n",
    "    set1 = set(string1)\n",
    "    set2 = set(string2)\n",
    "    \n",
    "    intersection = len(set1.intersection(set2))\n",
    "    union = len(set1) + len(set2)\n",
    "    \n",
    "    sorensen_distance = 1 - (2 * intersection / union)\n",
    "    similarity = 1 - sorensen_distance\n",
    "    return similarity"
   ]
  },
  {
   "cell_type": "code",
   "execution_count": 16,
   "id": "e679e085-1fcb-4cca-beed-a7cd36e0da3f",
   "metadata": {},
   "outputs": [],
   "source": [
    "similarity1 = calculate_sorensen_similarity(spacy_summary, bert_summary)\n"
   ]
  },
  {
   "cell_type": "code",
   "execution_count": 17,
   "id": "747de5f9-d207-4a01-9eae-346c31b95c9a",
   "metadata": {},
   "outputs": [
    {
     "data": {
      "text/plain": [
       "0.8307692307692308"
      ]
     },
     "execution_count": 17,
     "metadata": {},
     "output_type": "execute_result"
    }
   ],
   "source": [
    "similarity1"
   ]
  },
  {
   "cell_type": "code",
   "execution_count": null,
   "id": "555c8a0f-3888-4167-8d50-844253726736",
   "metadata": {},
   "outputs": [],
   "source": []
  },
  {
   "cell_type": "markdown",
   "id": "c034c9ca-912a-4e8e-990a-73f94b176399",
   "metadata": {},
   "source": [
    "Jaccard Similarity"
   ]
  },
  {
   "cell_type": "code",
   "execution_count": 18,
   "id": "c20b68d6-9a77-4c4b-895c-2fc77305cdf8",
   "metadata": {},
   "outputs": [],
   "source": [
    "def calculate_jaccard_similarity(string1, string2):\n",
    "    set1 = set(string1)\n",
    "    set2 = set(string2)\n",
    "    \n",
    "    intersection = len(set1.intersection(set2))\n",
    "    union = len(set1.union(set2))\n",
    "    \n",
    "    jaccard_distance = 1 - (intersection / union)\n",
    "    similarity = 1 - jaccard_distance\n",
    "    return similarity"
   ]
  },
  {
   "cell_type": "code",
   "execution_count": 19,
   "id": "f2127f73-1052-4deb-b28e-a8991564851a",
   "metadata": {},
   "outputs": [],
   "source": [
    "similarity2 = calculate_jaccard_similarity(\n",
    "    spacy_summary, bert_summary)"
   ]
  },
  {
   "cell_type": "code",
   "execution_count": 20,
   "id": "e967bdc6-c02b-4d7d-9b6e-2ea32745249b",
   "metadata": {},
   "outputs": [
    {
     "data": {
      "text/plain": [
       "0.7105263157894737"
      ]
     },
     "execution_count": 20,
     "metadata": {},
     "output_type": "execute_result"
    }
   ],
   "source": [
    "similarity2"
   ]
  },
  {
   "cell_type": "code",
   "execution_count": null,
   "id": "6218713c-2084-41c9-a31a-6d7785785436",
   "metadata": {},
   "outputs": [],
   "source": []
  }
 ],
 "metadata": {
  "kernelspec": {
   "display_name": "Python 3",
   "language": "python",
   "name": "python3"
  },
  "language_info": {
   "codemirror_mode": {
    "name": "ipython",
    "version": 3
   },
   "file_extension": ".py",
   "mimetype": "text/x-python",
   "name": "python",
   "nbconvert_exporter": "python",
   "pygments_lexer": "ipython3",
   "version": "3.8.16"
  }
 },
 "nbformat": 4,
 "nbformat_minor": 5
}
