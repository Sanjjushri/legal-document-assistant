{
 "cells": [
  {
   "cell_type": "code",
   "execution_count": 8,
   "id": "df104185-6e46-49a9-aa06-3c8c384d6d63",
   "metadata": {},
   "outputs": [],
   "source": [
    "# from transformers import PegasusForConditionalGeneration, PegasusTokenizer\n",
    "# import torch\n",
    "\n",
    "# src_text = [\n",
    "#     \"\"\" PG&E stated it scheduled the blackouts in response to forecasts for high winds amid dry conditions. The aim is to reduce the risk of wildfires. Nearly 800 thousand customers were scheduled to be affected by the shutoffs which were expected to last through at least midday tomorrow.\"\"\"\n",
    "# ]\n",
    "\n",
    "# model_name = \"google/pegasus-xsum\"\n",
    "# device = \"cuda\" if torch.cuda.is_available() else \"cpu\"\n",
    "# tokenizer = PegasusTokenizer.from_pretrained(model_name)\n",
    "# model = PegasusForConditionalGeneration.from_pretrained(model_name).to(device)\n",
    "# batch = tokenizer(src_text, truncation=True, padding=\"longest\", return_tensors=\"pt\").to(device)\n",
    "# translated = model.generate(**batch)\n",
    "# tgt_text = tokenizer.batch_decode(translated, skip_special_tokens=True)\n",
    "# assert (\n",
    "#     tgt_text[0]\n",
    "#     == \"California's largest electricity provider has turned off power to hundreds of thousands of customers.\"\n",
    "# )"
   ]
  },
  {
   "cell_type": "code",
   "execution_count": null,
   "id": "043070ac-4ab7-41b4-92da-cc2e06cee1a6",
   "metadata": {},
   "outputs": [],
   "source": [
    "# ! pip install sumy"
   ]
  },
  {
   "cell_type": "code",
   "execution_count": 9,
   "id": "e85fd207-89c2-4e14-bc0e-76816cf3ce67",
   "metadata": {
    "collapsed": true,
    "jupyter": {
     "outputs_hidden": true
    },
    "tags": []
   },
   "outputs": [
    {
     "name": "stdout",
     "output_type": "stream",
     "text": [
      "Name: sumy\n",
      "Version: 0.11.0\n",
      "Summary: Module for automatic summarization of text documents and HTML pages.\n",
      "Home-page: https://github.com/miso-belica/sumy\n",
      "Author: Mišo Belica\n",
      "Author-email: miso.belica@gmail.com\n",
      "License: Apache License, Version 2.0\n",
      "Location: /opt/homebrew/Caskroom/miniconda/base/envs/ml38/lib/python3.8/site-packages\n",
      "Requires: breadability, docopt, nltk, pycountry, requests\n",
      "Required-by: \n"
     ]
    }
   ],
   "source": [
    "! pip show sumy"
   ]
  },
  {
   "cell_type": "code",
   "execution_count": 12,
   "id": "8e215883-c0ee-4e54-82d6-f94ea7d99635",
   "metadata": {},
   "outputs": [],
   "source": [
    "# import nltk\n",
    "# nltk.download('punkt')"
   ]
  },
  {
   "cell_type": "code",
   "execution_count": 11,
   "id": "2c637b94-4bd3-431b-aa68-9e8187f7093e",
   "metadata": {},
   "outputs": [
    {
     "name": "stdout",
     "output_type": "stream",
     "text": [
      "XML allows developers to define their own custom elements and attributes, which can be used to represent data in a way that is specific to their needs.\n",
      "This ensures that the document is well-formed and conforms to a specific set of rules, which makes it easier to process and integrate with other systems and applications.\n",
      "Overall, XML is a powerful and flexible markup language that is widely used for representing structured data in a wide variety of contexts.\n"
     ]
    }
   ],
   "source": [
    "import spacy\n",
    "from spacy.lang.en import English\n",
    "from sumy.parsers.plaintext import PlaintextParser\n",
    "from sumy.nlp.tokenizers import Tokenizer\n",
    "from sumy.summarizers.lex_rank import LexRankSummarizer\n",
    "\n",
    "# Load SpaCy and create a sentence tokenization pipeline\n",
    "nlp = English()\n",
    "nlp.add_pipe(\"sentencizer\")\n",
    "\n",
    "# Input text (replace with your text)\n",
    "input_text = \"\"\"\n",
    "    XML stands for eXtensible Markup Language. It is a markup language that is used for creating structured documents that can be easily processed by machines. XML documents consist of a series of elements, which are marked up with tags and attributes to define their structure and content.\n",
    "\n",
    "XML is designed to be both human-readable and machine-readable. It is used for a wide variety of purposes, such as data exchange between different systems, configuration files for software applications, and as a basis for other markup languages like XHTML and RSS.\n",
    "\n",
    "One of the key features of XML is its extensibility. XML allows developers to define their own custom elements and attributes, which can be used to represent data in a way that is specific to their needs. This makes XML a highly flexible and adaptable format for representing structured data.\n",
    "\n",
    "XML documents are typically validated against a schema or DTD (Document Type Definition), which specifies the allowed structure and content of the document. This ensures that the document is well-formed and conforms to a specific set of rules, which makes it easier to process and integrate with other systems and applications.\n",
    "\n",
    "Overall, XML is a powerful and flexible markup language that is widely used for representing structured data in a wide variety of contexts.\n",
    "    \"\"\"\n",
    "\n",
    "# Tokenize the input text into sentences using SpaCy\n",
    "doc = nlp(input_text)\n",
    "sentences = [sent.text for sent in doc.sents]\n",
    "\n",
    "# Convert sentences to a plain text format for summarization\n",
    "text = \" \".join(sentences)\n",
    "\n",
    "# Use Sumy for text summarization (you may need to install the Sumy library)\n",
    "parser = PlaintextParser.from_string(text, Tokenizer(\"english\"))\n",
    "summarizer = LexRankSummarizer()\n",
    "\n",
    "# Set the number of sentences in the summary (adjust as needed)\n",
    "summary_sentences_count = 3\n",
    "summary = summarizer(parser.document, summary_sentences_count)\n",
    "\n",
    "# Print the summarized text\n",
    "for sentence in summary:\n",
    "    print(sentence)\n"
   ]
  },
  {
   "cell_type": "code",
   "execution_count": null,
   "id": "303f8530-2997-439b-928b-c37b60c8e968",
   "metadata": {},
   "outputs": [],
   "source": []
  }
 ],
 "metadata": {
  "kernelspec": {
   "display_name": "Python 3",
   "language": "python",
   "name": "python3"
  },
  "language_info": {
   "codemirror_mode": {
    "name": "ipython",
    "version": 3
   },
   "file_extension": ".py",
   "mimetype": "text/x-python",
   "name": "python",
   "nbconvert_exporter": "python",
   "pygments_lexer": "ipython3",
   "version": "3.8.16"
  }
 },
 "nbformat": 4,
 "nbformat_minor": 5
}
